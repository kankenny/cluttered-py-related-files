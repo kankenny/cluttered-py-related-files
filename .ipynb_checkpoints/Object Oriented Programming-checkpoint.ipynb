{
 "cells": [
  {
   "cell_type": "markdown",
   "id": "aacac887",
   "metadata": {},
   "source": [
    "# Object Oriented Programming"
   ]
  },
  {
   "cell_type": "markdown",
   "id": "74a86921",
   "metadata": {},
   "source": [
    "### Class"
   ]
  },
  {
   "cell_type": "code",
   "execution_count": 19,
   "id": "238ec183",
   "metadata": {},
   "outputs": [
    {
     "name": "stdout",
     "output_type": "stream",
     "text": [
      "Adsf am a mammal\n",
      "Charles am a mammal\n"
     ]
    }
   ],
   "source": [
    "class Square:\n",
    "    species = \"mammal\"\n",
    "    \n",
    "    def __init__(self, length, name):\n",
    "        self.length = length\n",
    "        self.name = name\n",
    "        self.description = self.name + \" am a \" + Square.species\n",
    "        \n",
    "    def get_length(self):\n",
    "        return self.length\n",
    "        \n",
    "s1 = Square(3, \"Adsf\")\n",
    "print(s1.description)\n",
    "s2 = Square(5, \"Charles\")\n",
    "print(s2.description)"
   ]
  },
  {
   "cell_type": "markdown",
   "id": "e7491f31",
   "metadata": {},
   "source": [
    "### Inheritance and Polymorphism"
   ]
  },
  {
   "cell_type": "code",
   "execution_count": null,
   "id": "c6de1820",
   "metadata": {},
   "outputs": [],
   "source": [
    "class Animal:\n",
    "    \n",
    "    def __init__(self):\n",
    "        print(\"Animal Created\")\n",
    "    \n",
    "    def __eat__(self):\n",
    "        print(\"Munch Munch\")"
   ]
  }
 ],
 "metadata": {
  "kernelspec": {
   "display_name": "Python 3",
   "language": "python",
   "name": "python3"
  },
  "language_info": {
   "codemirror_mode": {
    "name": "ipython",
    "version": 3
   },
   "file_extension": ".py",
   "mimetype": "text/x-python",
   "name": "python",
   "nbconvert_exporter": "python",
   "pygments_lexer": "ipython3",
   "version": "3.8.8"
  }
 },
 "nbformat": 4,
 "nbformat_minor": 5
}

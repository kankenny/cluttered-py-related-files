{
 "cells": [
  {
   "cell_type": "markdown",
   "id": "5d6b41ac",
   "metadata": {},
   "source": [
    "# Modules and Packages"
   ]
  },
  {
   "cell_type": "markdown",
   "id": "3835f212",
   "metadata": {},
   "source": [
    "#### Modules"
   ]
  },
  {
   "cell_type": "markdown",
   "id": "8b2aa8aa",
   "metadata": {},
   "source": [
    "##### Counter "
   ]
  },
  {
   "cell_type": "code",
   "execution_count": 2,
   "id": "e408d4a6",
   "metadata": {},
   "outputs": [],
   "source": [
    "from collections import Counter"
   ]
  },
  {
   "cell_type": "code",
   "execution_count": 4,
   "id": "58115730",
   "metadata": {},
   "outputs": [
    {
     "name": "stdout",
     "output_type": "stream",
     "text": [
      "Counter({1: 4, 2: 4, 3: 3})\n"
     ]
    }
   ],
   "source": [
    "myList = [1, 2, 2, 3, 1, 2, 3, 1, 2, 3, 1]\n",
    "numCount = Counter(myList)\n",
    "print(numCount)"
   ]
  },
  {
   "cell_type": "markdown",
   "id": "5721cba1",
   "metadata": {},
   "source": [
    "##### OS"
   ]
  },
  {
   "cell_type": "code",
   "execution_count": 6,
   "id": "45c721db",
   "metadata": {},
   "outputs": [],
   "source": [
    "import os"
   ]
  },
  {
   "cell_type": "code",
   "execution_count": 25,
   "id": "7081fbf6",
   "metadata": {},
   "outputs": [
    {
     "name": "stdout",
     "output_type": "stream",
     "text": [
      "C:\\Users\\kenji\\Desktop\\Coding\\Python\\learning-python\n"
     ]
    },
    {
     "data": {
      "text/plain": [
       "['ADMINI~1',\n",
       " 'All Users',\n",
       " 'Default',\n",
       " 'Default User',\n",
       " 'desktop.ini',\n",
       " 'kenji',\n",
       " 'Public']"
      ]
     },
     "execution_count": 25,
     "metadata": {},
     "output_type": "execute_result"
    }
   ],
   "source": [
    "print(os.getcwd())\n",
    "os.listdir('C://users')"
   ]
  },
  {
   "cell_type": "code",
   "execution_count": 14,
   "id": "23c88780",
   "metadata": {},
   "outputs": [],
   "source": [
    "import shutil"
   ]
  },
  {
   "cell_type": "code",
   "execution_count": 29,
   "id": "3d73a771",
   "metadata": {},
   "outputs": [
    {
     "data": {
      "text/plain": [
       "'C:\\\\Users\\\\kenji\\\\Desktop\\\\Coding\\\\Python\\\\learning-python\\\\Dummy Folder\\\\someDummy.txt'"
      ]
     },
     "execution_count": 29,
     "metadata": {},
     "output_type": "execute_result"
    }
   ],
   "source": [
    "file = open(\"someDummy.txt\", 'w+')\n",
    "file.write(\"Hello World!\")\n",
    "file.close()\n",
    "\n",
    "shutil.move(\"someDummy.txt\", 'C:\\\\Users\\\\kenji\\\\Desktop\\\\Coding\\\\Python\\\\learning-python\\\\Dummy Folder')"
   ]
  },
  {
   "cell_type": "markdown",
   "id": "7625e6a7",
   "metadata": {},
   "source": [
    "##### DateTime"
   ]
  },
  {
   "cell_type": "code",
   "execution_count": 32,
   "id": "cbe7ab8e",
   "metadata": {},
   "outputs": [],
   "source": [
    "import datetime"
   ]
  },
  {
   "cell_type": "code",
   "execution_count": 37,
   "id": "df9a7a02",
   "metadata": {},
   "outputs": [
    {
     "name": "stdout",
     "output_type": "stream",
     "text": [
      "02:20:00\n",
      "2023-02-23\n",
      "2023-02-23 11:51:02\n"
     ]
    }
   ],
   "source": [
    "currentTime = datetime.time(2, 20)\n",
    "print(currentTime)\n",
    "\n",
    "currentDate = datetime.date.today()\n",
    "print(currentDate)\n",
    "\n",
    "preciseDateTime = datetime.datetime(2023, 2, 23, 11, 51, 2)\n",
    "print(preciseDateTime)"
   ]
  },
  {
   "cell_type": "markdown",
   "id": "6e9524aa",
   "metadata": {},
   "source": [
    "##### Math and Random"
   ]
  },
  {
   "cell_type": "code",
   "execution_count": 7,
   "id": "9803c9d1",
   "metadata": {},
   "outputs": [
    {
     "name": "stdout",
     "output_type": "stream",
     "text": [
      "[0, 1, 2, 3, 4, 5, 6, 7, 8, 9, 10, 11, 12, 13, 14, 15, 16, 17, 18, 19]\n",
      "3.141592653589793\n",
      "2.718281828459045\n",
      "2.0\n",
      "[1, 18, 11, 5, 9]\n"
     ]
    }
   ],
   "source": [
    "import math\n",
    "import random\n",
    "\n",
    "myList = list(range(0, 20))\n",
    "print(myList)\n",
    "\n",
    "print(math.pi)\n",
    "print(math.e)\n",
    "print(math.log(100,10))\n",
    "print(random.choices(myList, k=5))"
   ]
  },
  {
   "cell_type": "markdown",
   "id": "ddf35217",
   "metadata": {},
   "source": [
    "##### Timing"
   ]
  },
  {
   "cell_type": "code",
   "execution_count": null,
   "id": "88213d08",
   "metadata": {},
   "outputs": [],
   "source": [
    "import time"
   ]
  },
  {
   "cell_type": "code",
   "execution_count": 16,
   "id": "a3d24a4e",
   "metadata": {},
   "outputs": [],
   "source": [
    "def naiveFib(n):\n",
    "    if n <= 2:\n",
    "        return 1\n",
    "    return naiveFib(n - 2) + naiveFib(n - 1)\n",
    "\n",
    "def bottomUpFib(n):\n",
    "    if n <= 2:\n",
    "        return 1\n",
    "\n",
    "    a = 1\n",
    "    b = 1\n",
    "    \n",
    "    for i in range(2, n):\n",
    "        curr = a + b\n",
    "        a = b\n",
    "        b = curr\n",
    "        \n",
    "    return b"
   ]
  },
  {
   "cell_type": "code",
   "execution_count": 17,
   "id": "05f321a3",
   "metadata": {},
   "outputs": [
    {
     "name": "stdout",
     "output_type": "stream",
     "text": [
      "55\n",
      "55\n"
     ]
    }
   ],
   "source": [
    "start_time = time.time()\n",
    "print(naiveFib(10))\n",
    "print(bottomUpFib(10))"
   ]
  }
 ],
 "metadata": {
  "kernelspec": {
   "display_name": "Python 3",
   "language": "python",
   "name": "python3"
  },
  "language_info": {
   "codemirror_mode": {
    "name": "ipython",
    "version": 3
   },
   "file_extension": ".py",
   "mimetype": "text/x-python",
   "name": "python",
   "nbconvert_exporter": "python",
   "pygments_lexer": "ipython3",
   "version": "3.8.8"
  }
 },
 "nbformat": 4,
 "nbformat_minor": 5
}

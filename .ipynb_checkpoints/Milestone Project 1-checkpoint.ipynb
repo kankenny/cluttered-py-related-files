{
 "cells": [
  {
   "cell_type": "markdown",
   "id": "d017af67",
   "metadata": {},
   "source": [
    "### Milestone Project 1"
   ]
  },
  {
   "cell_type": "markdown",
   "id": "9033d363",
   "metadata": {},
   "source": [
    "##### Warmup Project"
   ]
  },
  {
   "cell_type": "code",
   "execution_count": null,
   "id": "12fb1880",
   "metadata": {},
   "outputs": [],
   "source": [
    "def display(row1, row2, row3):\n",
    "    print(row1)\n",
    "    print(row2)\n",
    "    print(row3)\n",
    "    print('\\n\\n')\n",
    "    \n",
    "row1 = [' ', ' ', ' ']\n",
    "row2 = [' ', ' ', ' ']\n",
    "row3 = [' ', ' ', ' ']\n",
    "display(row1, row2, row3)\n",
    "\n",
    "def get_user_input():\n",
    "    result = ''\n",
    "    acceptable_range = range(0, 9)\n",
    "    within_range = False\n",
    "    \n",
    "    while not result.isdigit() or within_range == False:\n",
    "        result = input('Choose index position (0-8): ')\n",
    "        \n",
    "        if not result.isdigit():\n",
    "            print('That is not a digit')\n",
    "            \n",
    "        if result.isdigit():\n",
    "            if int(result) in acceptable_range:\n",
    "                within_range = True\n",
    "            else:\n",
    "                print('Input value is outside of the acceptable range')\n",
    "                \n",
    "    return int(result)\n",
    "\n",
    "\n",
    "print(get_user_input())"
   ]
  },
  {
   "cell_type": "markdown",
   "id": "42b7bbaf",
   "metadata": {},
   "source": [
    "##### List Changer"
   ]
  },
  {
   "cell_type": "code",
   "execution_count": null,
   "id": "aead8d01",
   "metadata": {},
   "outputs": [],
   "source": [
    "initial_game_list = [0, 1, 2, 3, 4]\n",
    "\n",
    "def display_game():\n",
    "    print('Here is the current list')\n",
    "    print(initial_game_list)\n",
    "    \n",
    "def user_choice():\n",
    "    choice = ''\n",
    "    acceptable_values = ['Y', 'N']\n",
    "    while choice not in acceptable_values:\n",
    "        choice = input(\"Do you want to play (Y/N)? \")\n",
    "        if choice not in acceptable_values:\n",
    "            print(\"Invalid user input, please only choose Y or N\")\n",
    "\n",
    "    return choice == 'Y'\n",
    "    \n",
    "user_choice()"
   ]
  },
  {
   "cell_type": "code",
   "execution_count": null,
   "id": "05f5a63c",
   "metadata": {},
   "outputs": [],
   "source": [
    "game_on = True\n",
    "\n",
    "while game_on:\n",
    "    display_game()\n",
    "    position = user_choice()\n",
    "    current_game_list = user"
   ]
  },
  {
   "cell_type": "code",
   "execution_count": null,
   "id": "e6e84898",
   "metadata": {},
   "outputs": [],
   "source": []
  }
 ],
 "metadata": {
  "kernelspec": {
   "display_name": "Python 3",
   "language": "python",
   "name": "python3"
  },
  "language_info": {
   "codemirror_mode": {
    "name": "ipython",
    "version": 3
   },
   "file_extension": ".py",
   "mimetype": "text/x-python",
   "name": "python",
   "nbconvert_exporter": "python",
   "pygments_lexer": "ipython3",
   "version": "3.8.8"
  }
 },
 "nbformat": 4,
 "nbformat_minor": 5
}

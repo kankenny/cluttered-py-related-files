{
 "cells": [
  {
   "cell_type": "markdown",
   "id": "2bb2854e",
   "metadata": {},
   "source": [
    "### CSV to ARFF Dataset Converter\n",
    "##### Author: Kennette James Basco"
   ]
  },
  {
   "cell_type": "code",
   "execution_count": 8,
   "id": "ee0c859a",
   "metadata": {},
   "outputs": [],
   "source": [
    "import csv\n",
    "\n",
    "inputFileName = \"New_York_City_Leading_Causes_of_Death.csv\"\n",
    "outputFileName = \"New_York_City_Leading_Causes_of_Death.arff\""
   ]
  },
  {
   "cell_type": "code",
   "execution_count": 9,
   "id": "02310f19",
   "metadata": {},
   "outputs": [],
   "source": [
    "def getPossibleValuesOfAttributes():\n",
    "    yearValues = \"numeric\"\n",
    "    leadingCauseValues = set()\n",
    "    ethnicValues = set()\n",
    "    for i in range(1, len(collection)):\n",
    "        leadingCauseValues.add(collection[i][1])\n",
    "        ethnicValues.add(collection[i][3])\n",
    "    sexValues = \"{M, F}\"\n",
    "    deathValues = \"numeric\"\n",
    "    deathRateValues = \"numeric\"\n",
    "    ageAdjustedDeathRateValues = \"numeric\"\n",
    "    \n",
    "    return yearValues, leadingCauseValues, sexValues, ethnicValues, deathValues, deathRateValues, ageAdjustedDeathRateValues"
   ]
  },
  {
   "cell_type": "code",
   "execution_count": 10,
   "id": "1b9bee83",
   "metadata": {},
   "outputs": [],
   "source": [
    "def writeHeaders(f, attributes, possibleValues):\n",
    "    f.write(\"% Kennette James Basco\\n\")\n",
    "    f.write(\"% 02/20/2023\\n\")\n",
    "    f.write(\"% CSV to ARFF Dataset Converter\\n\")\n",
    "    f.write(\"% In partial fulfillment for CSCI 415 - Introduction to Data Mining \\n\")\n",
    "    f.write(\"% Instructor: Helen Gu, PhD\\n\\n\\n\\n\")\n",
    "    f.write(\"@relation New York City Leading Case of Death\\n\\n\")\n",
    "    for i in range(0, len(attributes)):\n",
    "        f.write(f\"@attribute '{attributes[i]}' {possibleValues[i]}\\n\")\n",
    "    f.write(\"\\n\")"
   ]
  },
  {
   "cell_type": "code",
   "execution_count": 11,
   "id": "7ee23c51",
   "metadata": {},
   "outputs": [
    {
     "ename": "FileNotFoundError",
     "evalue": "[Errno 2] No such file or directory: 'New_York_City_Leading_Causes_of_Death.csv'",
     "output_type": "error",
     "traceback": [
      "\u001b[1;31m---------------------------------------------------------------------------\u001b[0m",
      "\u001b[1;31mFileNotFoundError\u001b[0m                         Traceback (most recent call last)",
      "\u001b[1;32m<ipython-input-11-ab07a47405ca>\u001b[0m in \u001b[0;36m<module>\u001b[1;34m\u001b[0m\n\u001b[0;32m      4\u001b[0m \u001b[1;33m\u001b[0m\u001b[0m\n\u001b[0;32m      5\u001b[0m \u001b[1;31m# Read Input file\u001b[0m\u001b[1;33m\u001b[0m\u001b[1;33m\u001b[0m\u001b[1;33m\u001b[0m\u001b[0m\n\u001b[1;32m----> 6\u001b[1;33m \u001b[1;32mwith\u001b[0m \u001b[0mopen\u001b[0m \u001b[1;33m(\u001b[0m\u001b[0minputFileName\u001b[0m\u001b[1;33m,\u001b[0m \u001b[0mmode\u001b[0m\u001b[1;33m=\u001b[0m\u001b[1;34m'r'\u001b[0m\u001b[1;33m,\u001b[0m\u001b[1;33m)\u001b[0m \u001b[1;32mas\u001b[0m \u001b[0minputFile\u001b[0m\u001b[1;33m:\u001b[0m\u001b[1;33m\u001b[0m\u001b[1;33m\u001b[0m\u001b[0m\n\u001b[0m\u001b[0;32m      7\u001b[0m     \u001b[0mcollection\u001b[0m \u001b[1;33m=\u001b[0m \u001b[0mlist\u001b[0m\u001b[1;33m(\u001b[0m\u001b[0mcsv\u001b[0m\u001b[1;33m.\u001b[0m\u001b[0mreader\u001b[0m\u001b[1;33m(\u001b[0m\u001b[0minputFile\u001b[0m\u001b[1;33m)\u001b[0m\u001b[1;33m)\u001b[0m\u001b[1;33m\u001b[0m\u001b[1;33m\u001b[0m\u001b[0m\n\u001b[0;32m      8\u001b[0m     \u001b[0mattributes\u001b[0m \u001b[1;33m=\u001b[0m \u001b[0mcollection\u001b[0m\u001b[1;33m[\u001b[0m\u001b[1;36m0\u001b[0m\u001b[1;33m]\u001b[0m\u001b[1;33m\u001b[0m\u001b[1;33m\u001b[0m\u001b[0m\n",
      "\u001b[1;31mFileNotFoundError\u001b[0m: [Errno 2] No such file or directory: 'New_York_City_Leading_Causes_of_Death.csv'"
     ]
    }
   ],
   "source": [
    "collection = list()\n",
    "attributes = \"\"\n",
    "possibleValues = \"\"\n",
    "\n",
    "# Read Input file\n",
    "with open (inputFileName, mode='r',) as inputFile:\n",
    "    collection = list(csv.reader(inputFile))\n",
    "    attributes = collection[0]\n",
    "    \n",
    "    numberOfAttributes = len(attributes)\n",
    "    numberOfObjects = len(collection) - 1\n",
    "    \n",
    "    possibleValues = getPossibleValuesOfAttributes()\n",
    "\n",
    "# Write Output file\n",
    "with open (outputFileName, mode='w',) as outputFile:\n",
    "    writeHeaders(outputFile, attributes, possibleValues)\n",
    "    outputFile.write(\"@data\\n\")\n",
    "    collection = collection[1:len(collection)]\n",
    "    \n",
    "    for obj in collection:\n",
    "        for i in range(0, len(obj)):\n",
    "            if i == (len(obj) - 1):\n",
    "                outputFile.write(f\"{obj[i]}\") \n",
    "            else:\n",
    "                outputFile.write(f\"{obj[i]},\")\n",
    "        outputFile.write(\"\\n\")    \n",
    "    "
   ]
  }
 ],
 "metadata": {
  "kernelspec": {
   "display_name": "Python 3",
   "language": "python",
   "name": "python3"
  },
  "language_info": {
   "codemirror_mode": {
    "name": "ipython",
    "version": 3
   },
   "file_extension": ".py",
   "mimetype": "text/x-python",
   "name": "python",
   "nbconvert_exporter": "python",
   "pygments_lexer": "ipython3",
   "version": "3.8.8"
  }
 },
 "nbformat": 4,
 "nbformat_minor": 5
}

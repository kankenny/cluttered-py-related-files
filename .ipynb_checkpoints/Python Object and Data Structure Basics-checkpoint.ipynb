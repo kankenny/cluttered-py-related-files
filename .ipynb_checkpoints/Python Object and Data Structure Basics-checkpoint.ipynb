{
 "cells": [
  {
   "cell_type": "markdown",
   "id": "211eff5f",
   "metadata": {},
   "source": [
    "# Numbers"
   ]
  },
  {
   "cell_type": "markdown",
   "id": "86e0cae5",
   "metadata": {},
   "source": [
    "### Operators: { +, -, /, *, %, **, // }\n",
    "    - + : addition<br>\n",
    "    - -  : subtraction<br>\n",
    "    - /  : true division<br>\n",
    "    - *  : multiplication<br>\n",
    "    - %  : modulo<br>\n",
    "    - ** : power<br>\n",
    "    - // : int division<br>\n",
    "    "
   ]
  },
  {
   "cell_type": "code",
   "execution_count": 11,
   "id": "c4c7c31c",
   "metadata": {},
   "outputs": [
    {
     "name": "stdout",
     "output_type": "stream",
     "text": [
      "8\n"
     ]
    }
   ],
   "source": [
    "print(2 ** 3)"
   ]
  },
  {
   "cell_type": "code",
   "execution_count": 10,
   "id": "20debc35",
   "metadata": {},
   "outputs": [
    {
     "name": "stdout",
     "output_type": "stream",
     "text": [
      "0.5\n"
     ]
    }
   ],
   "source": [
    "print(1 / 2)"
   ]
  },
  {
   "cell_type": "code",
   "execution_count": 12,
   "id": "1264c85f",
   "metadata": {},
   "outputs": [
    {
     "name": "stdout",
     "output_type": "stream",
     "text": [
      "0\n"
     ]
    }
   ],
   "source": [
    "print(1 // 2)"
   ]
  },
  {
   "cell_type": "markdown",
   "id": "4bbc9a6c",
   "metadata": {},
   "source": [
    "### Variable Assignment"
   ]
  },
  {
   "cell_type": "code",
   "execution_count": 7,
   "id": "8e635fe0",
   "metadata": {},
   "outputs": [
    {
     "name": "stdout",
     "output_type": "stream",
     "text": [
      "{'Honey', 'Boobear'}\n",
      "<class 'set'>\n"
     ]
    }
   ],
   "source": [
    "myDogs = 2\n",
    "myDogs = {'Honey', 'Boobear'}\n",
    "print(myDogs)\n",
    "print(type(myDogs))"
   ]
  },
  {
   "cell_type": "markdown",
   "id": "1ce5fbde",
   "metadata": {},
   "source": [
    "### Strings"
   ]
  },
  {
   "cell_type": "code",
   "execution_count": 9,
   "id": "86cc5291",
   "metadata": {},
   "outputs": [
    {
     "name": "stdout",
     "output_type": "stream",
     "text": [
      "im a str\n"
     ]
    }
   ],
   "source": [
    "print('im a str')"
   ]
  },
  {
   "cell_type": "code",
   "execution_count": 13,
   "id": "a841ac47",
   "metadata": {},
   "outputs": [
    {
     "name": "stdout",
     "output_type": "stream",
     "text": [
      "13\n"
     ]
    }
   ],
   "source": [
    "myString = 'Honey Boobear'\n",
    "print(len(myString))"
   ]
  },
  {
   "cell_type": "code",
   "execution_count": 16,
   "id": "f872d394",
   "metadata": {},
   "outputs": [
    {
     "name": "stdout",
     "output_type": "stream",
     "text": [
      "h\n",
      "o\n"
     ]
    }
   ],
   "source": [
    "print('hello'[0])\n",
    "print('hello'[-1])"
   ]
  },
  {
   "cell_type": "code",
   "execution_count": 25,
   "id": "9eed5bfd",
   "metadata": {},
   "outputs": [
    {
     "name": "stdout",
     "output_type": "stream",
     "text": [
      "Kennette\n",
      "nnette James\n",
      "Kennette\n"
     ]
    }
   ],
   "source": [
    "name = 'Kennette James'\n",
    "print(name[:8])\n",
    "print(name[2:])\n",
    "print(name[0:8])"
   ]
  },
  {
   "cell_type": "code",
   "execution_count": 30,
   "id": "d84d8155",
   "metadata": {},
   "outputs": [
    {
     "name": "stdout",
     "output_type": "stream",
     "text": [
      "1234567890\n",
      "13579\n"
     ]
    }
   ],
   "source": [
    "num = '1234567890'\n",
    "print(num[::])  # From start to fin\n",
    "print(num[::2]) # Odd"
   ]
  },
  {
   "cell_type": "code",
   "execution_count": 32,
   "id": "682afbcf",
   "metadata": {},
   "outputs": [
    {
     "name": "stdout",
     "output_type": "stream",
     "text": [
      "0987654321\n",
      "{'Honey', 'Boobear'}\n"
     ]
    }
   ],
   "source": [
    "num = '1234567890'\n",
    "print(num[::-1])"
   ]
  },
  {
   "cell_type": "code",
   "execution_count": 39,
   "id": "ebae6f9d",
   "metadata": {},
   "outputs": [
    {
     "name": "stdout",
     "output_type": "stream",
     "text": [
      "zzzzzzzzzz\n"
     ]
    }
   ],
   "source": [
    "blink = 'z'\n",
    "sleep = blink * 10\n",
    "print(sleep)"
   ]
  },
  {
   "cell_type": "code",
   "execution_count": 53,
   "id": "84cdf81b",
   "metadata": {
    "scrolled": true
   },
   "outputs": [
    {
     "name": "stdout",
     "output_type": "stream",
     "text": [
      "ZZZZZZZZZZ\n",
      "['Kennette', 'James']\n"
     ]
    }
   ],
   "source": [
    "print(sleep.upper())\n",
    "print(name.split(' '))"
   ]
  },
  {
   "cell_type": "markdown",
   "id": "9b31525b",
   "metadata": {},
   "source": [
    "### Lists\n",
    "\n",
    "    - Mutable\n",
    "    - Ordered Sequence\n",
    "    - Mutation is in place (void return type)\n",
    "    "
   ]
  },
  {
   "cell_type": "code",
   "execution_count": 50,
   "id": "9541b5d9",
   "metadata": {},
   "outputs": [
    {
     "name": "stdout",
     "output_type": "stream",
     "text": [
      "['one', 2, 3.0, 'hello world']\n",
      "['one', 2, 3.0, '3']\n"
     ]
    }
   ],
   "source": [
    "myList = ['one', 2, 3.0]\n",
    "anotherList = ['hello world']\n",
    "combinedList = myList + anotherList\n",
    "myList.append('3')\n",
    "appendedList = myList\n",
    "print(combinedList)\n",
    "print(appendedList)"
   ]
  },
  {
   "cell_type": "code",
   "execution_count": 47,
   "id": "fa86410d",
   "metadata": {},
   "outputs": [
    {
     "name": "stdout",
     "output_type": "stream",
     "text": [
      "['3', 'a', 'h', 'r', 't', 'u', 'u', 'y']\n",
      "[1, 1, 1, 3, 4, 5, 5, 8, 23, 32, 99, 123]\n",
      "['1', '1', '1', '123', '23', '3', '32', '4', '5', '5', '8', '99']\n"
     ]
    }
   ],
   "source": [
    "letters = ['a','r','t','h','u','u','y','er']\n",
    "number = [3,4,5,123,23,32,1,1,5,8,1,99]\n",
    "number1 = ['3','4','5','123','23','32','1','1','5','8','1','99']\n",
    "letters[7] = '3'\n",
    "letters.sort()\n",
    "number.sort()\n",
    "number1.sort()\n",
    "print(letters)\n",
    "print(number) \n",
    "print(number1)"
   ]
  },
  {
   "cell_type": "code",
   "execution_count": 51,
   "id": "afd70c1d",
   "metadata": {},
   "outputs": [
    {
     "name": "stdout",
     "output_type": "stream",
     "text": [
      "2\n"
     ]
    }
   ],
   "source": [
    "nestedList = [1, 1, [2, 1]]\n",
    "print(nestedList[2][0])"
   ]
  },
  {
   "cell_type": "markdown",
   "id": "ec4ce643",
   "metadata": {},
   "source": [
    "### Dictionaries\n"
   ]
  },
  {
   "cell_type": "code",
   "execution_count": 53,
   "id": "b606f4e3",
   "metadata": {},
   "outputs": [
    {
     "name": "stdout",
     "output_type": "stream",
     "text": [
      "69\n"
     ]
    }
   ],
   "source": [
    "myDict = {'key1':1, 'key2':3, 'key3':69}\n",
    "print(myDict['key3'])"
   ]
  },
  {
   "cell_type": "code",
   "execution_count": 55,
   "id": "7085193e",
   "metadata": {},
   "outputs": [
    {
     "name": "stdout",
     "output_type": "stream",
     "text": [
      "UPPER\n"
     ]
    }
   ],
   "source": [
    "myDict = {'key1': ['lower', 'lower', 'upper']}\n",
    "print(myDict['key1'][2].upper())"
   ]
  },
  {
   "cell_type": "markdown",
   "id": "02cb4261",
   "metadata": {},
   "source": [
    "### Tuples"
   ]
  },
  {
   "cell_type": "code",
   "execution_count": 1,
   "id": "0dde08e2",
   "metadata": {},
   "outputs": [],
   "source": [
    "myTuple = (1,2,3)"
   ]
  },
  {
   "cell_type": "code",
   "execution_count": 3,
   "id": "d0aa637e",
   "metadata": {},
   "outputs": [
    {
     "data": {
      "text/plain": [
       "2"
      ]
     },
     "execution_count": 3,
     "metadata": {},
     "output_type": "execute_result"
    }
   ],
   "source": [
    "myTuple[1]"
   ]
  },
  {
   "cell_type": "code",
   "execution_count": 5,
   "id": "0b10c479",
   "metadata": {},
   "outputs": [],
   "source": [
    "myTuple = (1,2,2,3)"
   ]
  },
  {
   "cell_type": "code",
   "execution_count": 8,
   "id": "3b4b6b10",
   "metadata": {},
   "outputs": [
    {
     "data": {
      "text/plain": [
       "2"
      ]
     },
     "execution_count": 8,
     "metadata": {},
     "output_type": "execute_result"
    }
   ],
   "source": [
    "myTuple.count(2)"
   ]
  },
  {
   "cell_type": "markdown",
   "id": "a90aaeeb",
   "metadata": {},
   "source": [
    "### Sets\n"
   ]
  },
  {
   "cell_type": "code",
   "execution_count": null,
   "id": "778defa9",
   "metadata": {},
   "outputs": [],
   "source": []
  },
  {
   "cell_type": "code",
   "execution_count": null,
   "id": "fc5b4ada",
   "metadata": {},
   "outputs": [],
   "source": []
  },
  {
   "cell_type": "code",
   "execution_count": null,
   "id": "aea0f2fc",
   "metadata": {},
   "outputs": [],
   "source": []
  },
  {
   "cell_type": "code",
   "execution_count": null,
   "id": "fa957dd8",
   "metadata": {},
   "outputs": [],
   "source": []
  },
  {
   "cell_type": "code",
   "execution_count": null,
   "id": "e5bfc17a",
   "metadata": {},
   "outputs": [],
   "source": []
  },
  {
   "cell_type": "code",
   "execution_count": null,
   "id": "4e742643",
   "metadata": {},
   "outputs": [],
   "source": []
  },
  {
   "cell_type": "code",
   "execution_count": null,
   "id": "dc21c657",
   "metadata": {},
   "outputs": [],
   "source": []
  }
 ],
 "metadata": {
  "kernelspec": {
   "display_name": "Python 3",
   "language": "python",
   "name": "python3"
  },
  "language_info": {
   "codemirror_mode": {
    "name": "ipython",
    "version": 3
   },
   "file_extension": ".py",
   "mimetype": "text/x-python",
   "name": "python",
   "nbconvert_exporter": "python",
   "pygments_lexer": "ipython3",
   "version": "3.8.8"
  }
 },
 "nbformat": 4,
 "nbformat_minor": 5
}

{
 "cells": [
  {
   "cell_type": "code",
   "execution_count": null,
   "id": "fbc0f793",
   "metadata": {},
   "outputs": [],
   "source": [
    "import statistics\n",
    "\n",
    "nums = [13, 15, 16, 16, 19, 20, 20, 21, 22, 22, 25, 25, 25, 25, 30, 33, \n",
    "33, 35, 35, 35, 35, 36, 40, 45, 46, 52, 70]"
   ]
  }
 ],
 "metadata": {
  "kernelspec": {
   "display_name": "Python 3",
   "language": "python",
   "name": "python3"
  },
  "language_info": {
   "codemirror_mode": {
    "name": "ipython",
    "version": 3
   },
   "file_extension": ".py",
   "mimetype": "text/x-python",
   "name": "python",
   "nbconvert_exporter": "python",
   "pygments_lexer": "ipython3",
   "version": "3.8.8"
  }
 },
 "nbformat": 4,
 "nbformat_minor": 5
}

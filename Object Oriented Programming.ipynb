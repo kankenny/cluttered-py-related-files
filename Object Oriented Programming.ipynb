{
 "cells": [
  {
   "cell_type": "markdown",
   "id": "8a99fc50",
   "metadata": {},
   "source": [
    "# Object Oriented Programming"
   ]
  },
  {
   "cell_type": "markdown",
   "id": "bd35d145",
   "metadata": {},
   "source": [
    "### Class"
   ]
  },
  {
   "cell_type": "code",
   "execution_count": 19,
   "id": "fb1106e5",
   "metadata": {},
   "outputs": [
    {
     "name": "stdout",
     "output_type": "stream",
     "text": [
      "Adsf am a mammal\n",
      "Charles am a mammal\n"
     ]
    }
   ],
   "source": [
    "class Square:\n",
    "    species = \"mammal\"\n",
    "    \n",
    "    def __init__(self, length, name):\n",
    "        self.length = length\n",
    "        self.name = name\n",
    "        self.description = self.name + \" am a \" + Square.species\n",
    "        \n",
    "    def get_length(self):\n",
    "        return self.length\n",
    "        \n",
    "s1 = Square(3, \"Adsf\")\n",
    "print(s1.description)\n",
    "s2 = Square(5, \"Charles\")\n",
    "print(s2.description)"
   ]
  },
  {
   "cell_type": "markdown",
   "id": "7f68e6a9",
   "metadata": {},
   "source": [
    "### Inheritance and Polymorphism"
   ]
  },
  {
   "cell_type": "code",
   "execution_count": 26,
   "id": "24fc0170",
   "metadata": {},
   "outputs": [
    {
     "name": "stdout",
     "output_type": "stream",
     "text": [
      "Animal Created\n",
      "Chomp chomp\n",
      "Chomp chomp\n"
     ]
    }
   ],
   "source": [
    "class Animal:\n",
    "    \n",
    "    def __init__(self):\n",
    "        print(\"Animal Created\")\n",
    "    \n",
    "    def eat(self):\n",
    "        raise NotImplementedError('Subclass must implement this abstract method')\n",
    "        \n",
    "class Dog(Animal):\n",
    "    \n",
    "    def __init__(self, breed, name):\n",
    "        Animal.__init__(self)\n",
    "        self.breed = breed\n",
    "        self.name = name\n",
    "        \n",
    "    def eat(self):\n",
    "        print(\"Chomp chomp\")\n",
    "\n",
    "d1 = Dog(\"Rottweiler\", \"Charles\")\n",
    "d1.eat()\n",
    "d1.eat()"
   ]
  },
  {
   "cell_type": "markdown",
   "id": "22b5bf52",
   "metadata": {},
   "source": [
    "### Special Methods"
   ]
  },
  {
   "cell_type": "code",
   "execution_count": 28,
   "id": "fda0a4a3",
   "metadata": {},
   "outputs": [
    {
     "name": "stdout",
     "output_type": "stream",
     "text": [
      "Book Title, Some Author\n"
     ]
    }
   ],
   "source": [
    "class Book():\n",
    "    def __init__(self, title, author, pages):\n",
    "        self.title = title\n",
    "        self.author = author\n",
    "        self.pages = pages\n",
    "    def __str__(self):\n",
    "        return f\"{self.title}, {self.author}\"\n",
    "    \n",
    "b1 = Book(\"Book Title\", \"Some Author\", 1234)\n",
    "print(b1)"
   ]
  }
 ],
 "metadata": {
  "kernelspec": {
   "display_name": "Python 3",
   "language": "python",
   "name": "python3"
  },
  "language_info": {
   "codemirror_mode": {
    "name": "ipython",
    "version": 3
   },
   "file_extension": ".py",
   "mimetype": "text/x-python",
   "name": "python",
   "nbconvert_exporter": "python",
   "pygments_lexer": "ipython3",
   "version": "3.8.8"
  }
 },
 "nbformat": 4,
 "nbformat_minor": 5
}

{
 "cells": [
  {
   "cell_type": "markdown",
   "id": "d017af67",
   "metadata": {},
   "source": [
    "### Milestone Project 1"
   ]
  },
  {
   "cell_type": "markdown",
   "id": "9033d363",
   "metadata": {},
   "source": [
    "##### Warmup Project"
   ]
  },
  {
   "cell_type": "code",
   "execution_count": null,
   "id": "12fb1880",
   "metadata": {},
   "outputs": [],
   "source": [
    "def display(row1, row2, row3):\n",
    "    print(row1)\n",
    "    print(row2)\n",
    "    print(row3)\n",
    "    print('\\n\\n')\n",
    "    \n",
    "row1 = [' ', ' ', ' ']\n",
    "row2 = [' ', ' ', ' ']\n",
    "row3 = [' ', ' ', ' ']\n",
    "display(row1, row2, row3)\n",
    "\n",
    "def get_user_input():\n",
    "    result = ''\n",
    "    acceptable_range = range(0, 9)\n",
    "    within_range = False\n",
    "    \n",
    "    while not result.isdigit() or within_range == False:\n",
    "        result = input('Choose index position (0-8): ')\n",
    "        \n",
    "        if not result.isdigit():\n",
    "            print('That is not a digit')\n",
    "            \n",
    "        if result.isdigit():\n",
    "            if int(result) in acceptable_range:\n",
    "                within_range = True\n",
    "            else:\n",
    "                print('Input value is outside of the acceptable range')\n",
    "                \n",
    "    return int(result)\n",
    "\n",
    "\n",
    "print(get_user_input())"
   ]
  },
  {
   "cell_type": "markdown",
   "id": "42b7bbaf",
   "metadata": {},
   "source": [
    "##### List Changer"
   ]
  },
  {
   "cell_type": "code",
   "execution_count": null,
   "id": "0e905d5b",
   "metadata": {},
   "outputs": [],
   "source": []
  },
  {
   "cell_type": "code",
   "execution_count": null,
   "id": "d9c375c8",
   "metadata": {},
   "outputs": [],
   "source": []
  },
  {
   "cell_type": "code",
   "execution_count": null,
   "id": "ed0b2246",
   "metadata": {},
   "outputs": [],
   "source": []
  }
 ],
 "metadata": {
  "kernelspec": {
   "display_name": "Python 3",
   "language": "python",
   "name": "python3"
  },
  "language_info": {
   "codemirror_mode": {
    "name": "ipython",
    "version": 3
   },
   "file_extension": ".py",
   "mimetype": "text/x-python",
   "name": "python",
   "nbconvert_exporter": "python",
   "pygments_lexer": "ipython3",
   "version": "3.8.8"
  }
 },
 "nbformat": 4,
 "nbformat_minor": 5
}

{
 "cells": [
  {
   "cell_type": "markdown",
   "id": "ec6e652e",
   "metadata": {},
   "source": [
    "# Methods and Functions"
   ]
  },
  {
   "cell_type": "markdown",
   "id": "310f2cf3",
   "metadata": {},
   "source": [
    "### Functions"
   ]
  },
  {
   "cell_type": "code",
   "execution_count": 11,
   "id": "8b105d55",
   "metadata": {},
   "outputs": [
    {
     "name": "stdout",
     "output_type": "stream",
     "text": [
      "False\n",
      "True\n"
     ]
    }
   ],
   "source": [
    "def is_even(n):\n",
    "    return n % 2 == 0\n",
    "\n",
    "print(is_even(5))\n",
    "print(is_even(102))"
   ]
  },
  {
   "cell_type": "code",
   "execution_count": 17,
   "id": "e79e3682",
   "metadata": {},
   "outputs": [
    {
     "name": "stdout",
     "output_type": "stream",
     "text": [
      "[202, 204]\n",
      "[]\n"
     ]
    }
   ],
   "source": [
    "def check_if_list_contains_even(num_list):\n",
    "    return [number for number in num_list if number % 2 == 0]\n",
    "        \n",
    "my_list = [1, 3, 5, 7, 9, 202, 3, 101, 204]\n",
    "my_list2 = [1, 3, 5, 7, 9]\n",
    "\n",
    "print(check_if_list_contains_even(my_list))\n",
    "print(check_if_list_contains_even(my_list2))"
   ]
  },
  {
   "cell_type": "code",
   "execution_count": 30,
   "id": "f2be3c1d",
   "metadata": {},
   "outputs": [
    {
     "name": "stdout",
     "output_type": "stream",
     "text": [
      "<class 'tuple'>\n",
      "('GOOG', 400)\n"
     ]
    }
   ],
   "source": [
    "stock_prices = [('APPL', 200), ('GOOG', 400), ('MSFT', 100)]\n",
    "\n",
    "def determine_highest_stock(stock_prices):\n",
    "    highest_price = 0\n",
    "    highest_stock = None\n",
    "    \n",
    "    for ticker, price in stock_prices:\n",
    "        if price > highest_price:\n",
    "            highest_price = price\n",
    "            highest_stock = ticker\n",
    "    return (highest_stock, highest_price)\n",
    "        \n",
    "        \n",
    "res = determine_highest_stock(stock_prices)\n",
    "print(type(res))\n",
    "print(res)"
   ]
  },
  {
   "cell_type": "code",
   "execution_count": 38,
   "id": "bb0e0ff4",
   "metadata": {},
   "outputs": [
    {
     "name": "stdout",
     "output_type": "stream",
     "text": [
      "Pick a number: 0, 1, 2\n",
      "1\n",
      "False\n"
     ]
    }
   ],
   "source": [
    "from random import shuffle\n",
    "cards = ['', 'O', '']\n",
    "shuffle(cards) #In-place Sorting\n",
    "\n",
    "def shuffle_cards(num_list):\n",
    "    shuffle(num_list)\n",
    "    return num_list\n",
    "\n",
    "def player_guess():\n",
    "    '''3 Card Monte Game utilizing the shuffle list'''\n",
    "    guess = ''\n",
    "    \n",
    "    while guess not in ['0', '1', '2']:\n",
    "        guess = input(\"Pick a number: 0, 1, 2\\n\")\n",
    "        \n",
    "    return int(guess)\n",
    "\n",
    "sorted_list = shuffle_cards(cards)\n",
    "guess = player_guess()\n",
    "\n",
    "print(len(sorted_list[guess]) != 0)\n"
   ]
  },
  {
   "cell_type": "markdown",
   "id": "da80dfab",
   "metadata": {},
   "source": [
    "### \\*args and \\**kwargs"
   ]
  },
  {
   "cell_type": "code",
   "execution_count": 52,
   "id": "96a64380",
   "metadata": {},
   "outputs": [
    {
     "name": "stdout",
     "output_type": "stream",
     "text": [
      "90\n",
      "My fruit of choice is: apple\n",
      "(10, 20, 30)\n",
      "{'test': 50, 'best': 10}\n"
     ]
    }
   ],
   "source": [
    "def myfunc(*args):\n",
    "    return sum(args)\n",
    "\n",
    "print(myfunc(20, 30, 40))\n",
    "\n",
    "def myfunc2(**kwargs):\n",
    "    if 'fruit' in kwargs:\n",
    "        print('My fruit of choice is: {}'.format(kwargs['fruit']))\n",
    "        \n",
    "myfunc2(fruit='apple', veggie = 'lettuce')\n",
    "\n",
    "def myfunc3(*args, **kwargs):\n",
    "    print(args)\n",
    "    print(kwargs)\n",
    "    \n",
    "myfunc3(10, 20, 30, test = 50, best = 10)"
   ]
  },
  {
   "cell_type": "markdown",
   "id": "ce1a3f1d",
   "metadata": {},
   "source": [
    "### Lambda Expressions"
   ]
  },
  {
   "cell_type": "code",
   "execution_count": 78,
   "id": "453acc82",
   "metadata": {},
   "outputs": [
    {
     "name": "stdout",
     "output_type": "stream",
     "text": [
      "[1, 4, 9, 16, 25]\n",
      "1\n",
      "4\n",
      "9\n",
      "16\n",
      "25\n"
     ]
    }
   ],
   "source": [
    "def square(num):\n",
    "    return num ** 2\n",
    "\n",
    "myNums = [1, 2, 3, 4, 5]\n",
    "squaredNums = list(map(square, myNums))\n",
    "print(squaredNums)\n",
    "\n",
    "for item in map(square, myNums):\n",
    "    print(item)"
   ]
  },
  {
   "cell_type": "code",
   "execution_count": 59,
   "id": "ac23a2e4",
   "metadata": {},
   "outputs": [
    {
     "name": "stdout",
     "output_type": "stream",
     "text": [
      "0\n",
      "2\n",
      "4\n",
      "6\n",
      "8\n"
     ]
    }
   ],
   "source": [
    "def check_even(num):\n",
    "    return num % 2 == 0\n",
    "\n",
    "myList = [0, 1, 2, 3, 4, 5, 6, 7, 8]\n",
    "for item in filter(check_even, myList):\n",
    "    print(item)"
   ]
  },
  {
   "cell_type": "code",
   "execution_count": 85,
   "id": "613f58a4",
   "metadata": {},
   "outputs": [
    {
     "name": "stdout",
     "output_type": "stream",
     "text": [
      "[0, 1, 4, 9, 16, 25, 36]\n"
     ]
    }
   ],
   "source": [
    "myList = [0, 1, 2, 3, 4, 5, 6]\n",
    "\n",
    "print(list(map(lambda num: num ** 2, myList)))\n"
   ]
  },
  {
   "cell_type": "markdown",
   "id": "404fdaee",
   "metadata": {},
   "source": [
    "### Scope"
   ]
  },
  {
   "cell_type": "code",
   "execution_count": 93,
   "id": "bb01ad0b",
   "metadata": {},
   "outputs": [
    {
     "name": "stdout",
     "output_type": "stream",
     "text": [
      "[0, 1, 2, 3, 4, 5, 6, 7, 8, 9, 10]\n",
      "6\n"
     ]
    }
   ],
   "source": [
    "count = 0\n",
    "\n",
    "def howManyEvens(num_list):\n",
    "    global count\n",
    "    \n",
    "    for num in num_list:\n",
    "        if num % 2 == 0:\n",
    "            count += 1\n",
    "            \n",
    "myList = [num for num in range(0, 11)]\n",
    "howManyEvens(myList)\n",
    "print(myList)\n",
    "print(count)"
   ]
  },
  {
   "cell_type": "code",
   "execution_count": null,
   "id": "37070abf",
   "metadata": {},
   "outputs": [],
   "source": []
  }
 ],
 "metadata": {
  "kernelspec": {
   "display_name": "Python 3",
   "language": "python",
   "name": "python3"
  },
  "language_info": {
   "codemirror_mode": {
    "name": "ipython",
    "version": 3
   },
   "file_extension": ".py",
   "mimetype": "text/x-python",
   "name": "python",
   "nbconvert_exporter": "python",
   "pygments_lexer": "ipython3",
   "version": "3.8.8"
  }
 },
 "nbformat": 4,
 "nbformat_minor": 5
}

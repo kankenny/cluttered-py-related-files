{
 "cells": [
  {
   "cell_type": "markdown",
   "id": "5d6b41ac",
   "metadata": {},
   "source": [
    "# Modules and Packages"
   ]
  },
  {
   "cell_type": "markdown",
   "id": "3835f212",
   "metadata": {},
   "source": [
    "#### Modules"
   ]
  },
  {
   "cell_type": "markdown",
   "id": "8b2aa8aa",
   "metadata": {},
   "source": [
    "##### Counter "
   ]
  },
  {
   "cell_type": "code",
   "execution_count": null,
   "id": "e408d4a6",
   "metadata": {},
   "outputs": [],
   "source": [
    "from collections import Counter"
   ]
  },
  {
   "cell_type": "code",
   "execution_count": null,
   "id": "58115730",
   "metadata": {},
   "outputs": [],
   "source": [
    "myList = [1, 2, 2, 3, 1, 2, 3, 1, 2, 3, 1]\n",
    "numCount = Counter(myList)\n",
    "print(numCount)"
   ]
  },
  {
   "cell_type": "markdown",
   "id": "5721cba1",
   "metadata": {},
   "source": [
    "##### OS"
   ]
  },
  {
   "cell_type": "code",
   "execution_count": null,
   "id": "45c721db",
   "metadata": {},
   "outputs": [],
   "source": [
    "import os"
   ]
  },
  {
   "cell_type": "code",
   "execution_count": null,
   "id": "7081fbf6",
   "metadata": {},
   "outputs": [],
   "source": [
    "print(os.getcwd())\n",
    "os.listdir('C://users')"
   ]
  },
  {
   "cell_type": "code",
   "execution_count": null,
   "id": "23c88780",
   "metadata": {},
   "outputs": [],
   "source": [
    "import shutil"
   ]
  },
  {
   "cell_type": "code",
   "execution_count": null,
   "id": "3d73a771",
   "metadata": {},
   "outputs": [],
   "source": [
    "file = open(\"someDummy.txt\", 'w+')\n",
    "file.write(\"Hello World!\")\n",
    "file.close()\n",
    "\n",
    "shutil.move(\"someDummy.txt\", 'C:\\\\Users\\\\kenji\\\\Desktop\\\\Coding\\\\Python\\\\learning-python\\\\Dummy Folder')"
   ]
  },
  {
   "cell_type": "markdown",
   "id": "7625e6a7",
   "metadata": {},
   "source": [
    "##### DateTime"
   ]
  },
  {
   "cell_type": "code",
   "execution_count": null,
   "id": "cbe7ab8e",
   "metadata": {},
   "outputs": [],
   "source": [
    "import datetime"
   ]
  },
  {
   "cell_type": "code",
   "execution_count": null,
   "id": "df9a7a02",
   "metadata": {},
   "outputs": [],
   "source": [
    "currentTime = datetime.time(2, 20)\n",
    "print(currentTime)\n",
    "\n",
    "currentDate = datetime.date.today()\n",
    "print(currentDate)\n",
    "\n",
    "preciseDateTime = datetime.datetime(2023, 2, 23, 11, 51, 2)\n",
    "print(preciseDateTime)"
   ]
  },
  {
   "cell_type": "markdown",
   "id": "6e9524aa",
   "metadata": {},
   "source": [
    "##### Math and Random"
   ]
  },
  {
   "cell_type": "code",
   "execution_count": null,
   "id": "9803c9d1",
   "metadata": {},
   "outputs": [],
   "source": [
    "import math\n",
    "import random\n",
    "\n",
    "myList = list(range(0, 20))\n",
    "print(myList)\n",
    "\n",
    "print(math.pi)\n",
    "print(math.e)\n",
    "print(math.log(100,10))\n",
    "print(random.choices(myList, k=5))"
   ]
  },
  {
   "cell_type": "markdown",
   "id": "67be03d1",
   "metadata": {},
   "source": [
    "##### Timing"
   ]
  },
  {
   "cell_type": "code",
   "execution_count": 3,
   "id": "b19828dd",
   "metadata": {},
   "outputs": [],
   "source": [
    "import time"
   ]
  },
  {
   "cell_type": "code",
   "execution_count": 4,
   "id": "d1efa57c",
   "metadata": {},
   "outputs": [],
   "source": [
    "def naiveFib(n):\n",
    "    if n <= 2:\n",
    "        return 1\n",
    "    return naiveFib(n - 2) + naiveFib(n - 1)\n",
    "\n",
    "def bottomUpFib(n):\n",
    "    if n <= 2:\n",
    "        return 1\n",
    "\n",
    "    a = 1\n",
    "    b = 1\n",
    "    \n",
    "    for i in range(2, n):\n",
    "        curr = a + b\n",
    "        a = b\n",
    "        b = curr\n",
    "        \n",
    "    return b"
   ]
  },
  {
   "cell_type": "code",
   "execution_count": 7,
   "id": "7a315f62",
   "metadata": {},
   "outputs": [
    {
     "name": "stdout",
     "output_type": "stream",
     "text": [
      "102334155\n",
      "14.53994083404541\n",
      "102334155\n",
      "0.0\n"
     ]
    },
    {
     "name": "stderr",
     "output_type": "stream",
     "text": [
      "UsageError: Line magic function `%%timeit` not found.\n"
     ]
    }
   ],
   "source": [
    "start_time = time.time()\n",
    "print(naiveFib(40))\n",
    "end_time = time.time()\n",
    "elapsed_time = end_time - start_time\n",
    "print(elapsed_time)\n",
    "\n",
    "start_time = time.time()\n",
    "print(bottomUpFib(40))\n",
    "end_time = time.time()\n",
    "elapsed_time = end_time - start_time\n",
    "print(elapsed_time)\n",
    "\n",
    "%%timeit \n",
    "naiveFib(40)\n",
    "\n",
    "%%timeit\n",
    "bottomUpFib(40)"
   ]
  },
  {
   "cell_type": "code",
   "execution_count": null,
   "id": "0fff4b43",
   "metadata": {},
   "outputs": [],
   "source": []
  }
 ],
 "metadata": {
  "kernelspec": {
   "display_name": "Python 3",
   "language": "python",
   "name": "python3"
  }
 },
 "nbformat": 4,
 "nbformat_minor": 5
}

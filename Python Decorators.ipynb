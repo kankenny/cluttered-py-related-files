{
 "cells": [
  {
   "cell_type": "markdown",
   "id": "3857759d",
   "metadata": {},
   "source": [
    "### Python Decorators"
   ]
  },
  {
   "cell_type": "code",
   "execution_count": 2,
   "id": "5991567a",
   "metadata": {},
   "outputs": [],
   "source": [
    "def some_decorator(original_func):\n",
    "    def inner_func():\n",
    "        print('Some extra code, before the passed function')\n",
    "        original_func()\n",
    "        print('Some extra code, after the passed function')\n",
    "    return inner_func"
   ]
  },
  {
   "cell_type": "code",
   "execution_count": 3,
   "id": "23f7e625",
   "metadata": {},
   "outputs": [],
   "source": [
    "def function_needs_decorator():\n",
    "    print(\"I need to be decorated\")"
   ]
  },
  {
   "cell_type": "code",
   "execution_count": 9,
   "id": "6376beca",
   "metadata": {},
   "outputs": [
    {
     "name": "stdout",
     "output_type": "stream",
     "text": [
      "Some extra code, before the passed function\n",
      "I need to be decorated\n",
      "Some extra code, after the passed function\n",
      "None\n"
     ]
    }
   ],
   "source": [
    "decorated_function = some_decorator(function_needs_decorator)\n",
    "print(decorated_function())"
   ]
  },
  {
   "cell_type": "code",
   "execution_count": 13,
   "id": "be3e3705",
   "metadata": {},
   "outputs": [
    {
     "name": "stdout",
     "output_type": "stream",
     "text": [
      "Some extra code, before the passed function\n",
      "I need to be decorated\n",
      "Some extra code, after the passed function\n",
      "None\n"
     ]
    }
   ],
   "source": [
    "@some_decorator \n",
    "def function_needs_decorator():\n",
    "    print(\"I need to be decorated\")\n",
    "print(function_needs_decorator())"
   ]
  },
  {
   "cell_type": "code",
   "execution_count": null,
   "id": "37b28c9b",
   "metadata": {},
   "outputs": [],
   "source": []
  }
 ],
 "metadata": {
  "kernelspec": {
   "display_name": "Python 3",
   "language": "python",
   "name": "python3"
  },
  "language_info": {
   "codemirror_mode": {
    "name": "ipython",
    "version": 3
   },
   "file_extension": ".py",
   "mimetype": "text/x-python",
   "name": "python",
   "nbconvert_exporter": "python",
   "pygments_lexer": "ipython3",
   "version": "3.8.8"
  }
 },
 "nbformat": 4,
 "nbformat_minor": 5
}

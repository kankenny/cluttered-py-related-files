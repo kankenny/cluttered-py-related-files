{
 "cells": [
  {
   "cell_type": "code",
   "execution_count": 5,
   "id": "0052d40b",
   "metadata": {},
   "outputs": [
    {
     "name": "stdout",
     "output_type": "stream",
     "text": [
      "29.962962962962962\n",
      "25\n",
      "25\n",
      "41.5\n"
     ]
    }
   ],
   "source": [
    "import statistics\n",
    "\n",
    "nums = [13, 15, 16, 16, 19, 20, 20, 21, 22, 22, 25, 25, 25, 25, 30, 33, 33, 35, 35, 35, 35, 36, 40, 45, 46, 52, 70]\n",
    "print(statistics.mean(nums))\n",
    "print(statistics.median(nums))\n",
    "print(statistics.mode(nums))\n",
    "\n",
    "print((nums[0] + nums[len(nums) - 1]) / 2)"
   ]
  },
  {
   "cell_type": "code",
   "execution_count": 17,
   "id": "7c749efd",
   "metadata": {},
   "outputs": [
    {
     "name": "stdout",
     "output_type": "stream",
     "text": [
      "[24, 29, 43, 45, 52, 65, 68, 69, 72, 77, 78, 81, 81, 88, 95, 99]\n",
      "[24, 29, 43, 45]\n",
      "[52, 65, 68, 69]\n",
      "[72, 77, 78, 81]\n",
      "[81, 88, 95, 99]\n",
      "35.25\n",
      "63.5\n",
      "77\n",
      "90.75\n"
     ]
    }
   ],
   "source": [
    "nums = [29, 81, 68, 43, 65, 45, 69, 78, 81, 72, 88, 99, 95, 24, 77, 52]\n",
    "nums.sort()\n",
    "print(nums)\n",
    "\n",
    "numsFirstHalf = nums[0:4]\n",
    "numsSecondHalf = nums[4: 8]\n",
    "numsThirdHalf = nums[8: 12]\n",
    "numsFourthHalf = nums[12: 16]\n",
    "\n",
    "print(numsFirstHalf)\n",
    "print(numsSecondHalf)\n",
    "print(numsThirdHalf)\n",
    "print(numsFourthHalf)\n",
    "\n",
    "print(statistics.mean(numsFirstHalf))\n",
    "print(statistics.mean(numsSecondHalf))\n",
    "print(statistics.mean(numsThirdHalf))\n",
    "print(statistics.mean(numsFourthHalf))"
   ]
  }
 ],
 "metadata": {
  "kernelspec": {
   "display_name": "Python 3",
   "language": "python",
   "name": "python3"
  },
  "language_info": {
   "codemirror_mode": {
    "name": "ipython",
    "version": 3
   },
   "file_extension": ".py",
   "mimetype": "text/x-python",
   "name": "python",
   "nbconvert_exporter": "python",
   "pygments_lexer": "ipython3",
   "version": "3.8.8"
  }
 },
 "nbformat": 4,
 "nbformat_minor": 5
}

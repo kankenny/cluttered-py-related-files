{
 "cells": [
  {
   "cell_type": "markdown",
   "id": "9f452f6a",
   "metadata": {},
   "source": [
    "### Advanced Python Modules"
   ]
  },
  {
   "cell_type": "markdown",
   "id": "164a1d80",
   "metadata": {},
   "source": [
    "##### Collections Module"
   ]
  },
  {
   "cell_type": "code",
   "execution_count": 5,
   "id": "94e2c01d",
   "metadata": {},
   "outputs": [
    {
     "name": "stdout",
     "output_type": "stream",
     "text": [
      "Counter({1: 5, 2: 2, 32: 2, 3: 1, 4: 1, 56: 1, 23: 1})\n",
      "[(1, 5), (2, 2), (32, 2), (3, 1), (4, 1), (56, 1), (23, 1)]\n"
     ]
    }
   ],
   "source": [
    "from collections import Counter\n",
    "\n",
    "myList = [1,1,1,1,2,3,4,56,2,23,32,1,32]\n",
    "count = Counter(myList)\n",
    "print(count)\n",
    "print(count.most_common())"
   ]
  }
 ],
 "metadata": {
  "kernelspec": {
   "display_name": "Python 3",
   "language": "python",
   "name": "python3"
  },
  "language_info": {
   "codemirror_mode": {
    "name": "ipython",
    "version": 3
   },
   "file_extension": ".py",
   "mimetype": "text/x-python",
   "name": "python",
   "nbconvert_exporter": "python",
   "pygments_lexer": "ipython3",
   "version": "3.8.8"
  }
 },
 "nbformat": 4,
 "nbformat_minor": 5
}
